{
 "cells": [
  {
   "cell_type": "markdown",
   "metadata": {},
   "source": [
    "# &emsp;&emsp;&emsp;&emsp;&emsp;&emsp;&emsp;&emsp;&emsp;&emsp;&emsp;&emsp;&emsp;&emsp;Assignment"
   ]
  },
  {
   "cell_type": "markdown",
   "metadata": {},
   "source": [
    "\n",
    "We will predict employee salaries from different employee characteristics (or features). We are going to use a simple supervised learning technique: linear regression. We want to build a simple model to determine how well Years Worked predicts an employee’s salary. Import the data salary.csv to a Jupyter Notebook. A description of the variables is given in Salary Metadata. You will need the packages matplotlib, pandas and statsmodels."
   ]
  },
  {
   "cell_type": "markdown",
   "metadata": {},
   "source": [
    "### Steps and questions"
   ]
  },
  {
   "cell_type": "markdown",
   "metadata": {},
   "source": [
    "1. Split your data into a training and test set. Leave the test set for now. Examine the training data for missing and extreme values. Create histograms to show the distribution of the variables and a scatterplot showing the relationship between Years Worked and Salary. Are the data appropriate for linear regression? Is there anything that needs to be transformed or edited first?"
   ]
  },
  {
   "cell_type": "code",
   "execution_count": 1,
   "metadata": {},
   "outputs": [],
   "source": [
    "# Libraries\n",
    "import pandas as pd\n",
    "import seaborn as sns\n",
    "import matplotlib.pyplot as plt\n",
    "import numpy as np\n",
    "import statsmodels.api as sm\n",
    "from statsmodels.tools.eval_measures import rmse\n",
    "from sklearn.model_selection import train_test_split\n",
    "# Additional libraries\n",
    "from scipy import stats\n",
    "from scipy.stats import iqr,pearsonr, norm\n",
    "import warnings\n",
    "\n",
    "warnings.simplefilter(action='ignore', category=FutureWarning)\n",
    "%matplotlib inline\n",
    "\n",
    "sns.set()"
   ]
  },
  {
   "cell_type": "code",
   "execution_count": 2,
   "metadata": {},
   "outputs": [
    {
     "data": {
      "text/html": [
       "<div>\n",
       "<style scoped>\n",
       "    .dataframe tbody tr th:only-of-type {\n",
       "        vertical-align: middle;\n",
       "    }\n",
       "\n",
       "    .dataframe tbody tr th {\n",
       "        vertical-align: top;\n",
       "    }\n",
       "\n",
       "    .dataframe thead th {\n",
       "        text-align: right;\n",
       "    }\n",
       "</style>\n",
       "<table border=\"1\" class=\"dataframe\">\n",
       "  <thead>\n",
       "    <tr style=\"text-align: right;\">\n",
       "      <th></th>\n",
       "      <th>salary</th>\n",
       "      <th>exprior</th>\n",
       "      <th>yearsworked</th>\n",
       "      <th>yearsrank</th>\n",
       "      <th>market</th>\n",
       "      <th>degree</th>\n",
       "      <th>otherqual</th>\n",
       "      <th>position</th>\n",
       "      <th>male</th>\n",
       "      <th>Field</th>\n",
       "      <th>yearsabs</th>\n",
       "    </tr>\n",
       "  </thead>\n",
       "  <tbody>\n",
       "    <tr>\n",
       "      <th>0</th>\n",
       "      <td>53000.0</td>\n",
       "      <td>0</td>\n",
       "      <td>0</td>\n",
       "      <td>0</td>\n",
       "      <td>1.17</td>\n",
       "      <td>1</td>\n",
       "      <td>0</td>\n",
       "      <td>1</td>\n",
       "      <td>1</td>\n",
       "      <td>3</td>\n",
       "      <td>0</td>\n",
       "    </tr>\n",
       "    <tr>\n",
       "      <th>1</th>\n",
       "      <td>58000.0</td>\n",
       "      <td>1</td>\n",
       "      <td>0</td>\n",
       "      <td>0</td>\n",
       "      <td>1.24</td>\n",
       "      <td>1</td>\n",
       "      <td>0</td>\n",
       "      <td>1</td>\n",
       "      <td>1</td>\n",
       "      <td>2</td>\n",
       "      <td>0</td>\n",
       "    </tr>\n",
       "    <tr>\n",
       "      <th>2</th>\n",
       "      <td>45500.0</td>\n",
       "      <td>0</td>\n",
       "      <td>0</td>\n",
       "      <td>0</td>\n",
       "      <td>1.21</td>\n",
       "      <td>1</td>\n",
       "      <td>0</td>\n",
       "      <td>1</td>\n",
       "      <td>1</td>\n",
       "      <td>3</td>\n",
       "      <td>2</td>\n",
       "    </tr>\n",
       "    <tr>\n",
       "      <th>3</th>\n",
       "      <td>35782.0</td>\n",
       "      <td>0</td>\n",
       "      <td>2</td>\n",
       "      <td>1</td>\n",
       "      <td>0.99</td>\n",
       "      <td>1</td>\n",
       "      <td>0</td>\n",
       "      <td>1</td>\n",
       "      <td>1</td>\n",
       "      <td>4</td>\n",
       "      <td>1</td>\n",
       "    </tr>\n",
       "    <tr>\n",
       "      <th>4</th>\n",
       "      <td>34731.0</td>\n",
       "      <td>0</td>\n",
       "      <td>2</td>\n",
       "      <td>2</td>\n",
       "      <td>0.91</td>\n",
       "      <td>1</td>\n",
       "      <td>0</td>\n",
       "      <td>1</td>\n",
       "      <td>1</td>\n",
       "      <td>4</td>\n",
       "      <td>1</td>\n",
       "    </tr>\n",
       "  </tbody>\n",
       "</table>\n",
       "</div>"
      ],
      "text/plain": [
       "    salary  exprior  yearsworked  yearsrank  market  degree  otherqual  \\\n",
       "0  53000.0        0            0          0    1.17       1          0   \n",
       "1  58000.0        1            0          0    1.24       1          0   \n",
       "2  45500.0        0            0          0    1.21       1          0   \n",
       "3  35782.0        0            2          1    0.99       1          0   \n",
       "4  34731.0        0            2          2    0.91       1          0   \n",
       "\n",
       "   position  male  Field  yearsabs  \n",
       "0         1     1      3         0  \n",
       "1         1     1      2         0  \n",
       "2         1     1      3         2  \n",
       "3         1     1      4         1  \n",
       "4         1     1      4         1  "
      ]
     },
     "execution_count": 2,
     "metadata": {},
     "output_type": "execute_result"
    }
   ],
   "source": [
    "# Getting the dataset\n",
    "data = pd.read_csv(\"salary.csv\")\n",
    "\n",
    "# A view of the first five rows\n",
    "data.head()"
   ]
  },
  {
   "cell_type": "markdown",
   "metadata": {},
   "source": [
    "#### Dealing with Missing Data"
   ]
  },
  {
   "cell_type": "code",
   "execution_count": 3,
   "metadata": {},
   "outputs": [
    {
     "name": "stdout",
     "output_type": "stream",
     "text": [
      "Total number of responders (target variable):\t514\n",
      "Number of columns with missing values:\t1\n",
      "\n",
      "A look at the row with missing value:\n"
     ]
    },
    {
     "data": {
      "text/html": [
       "<div>\n",
       "<style scoped>\n",
       "    .dataframe tbody tr th:only-of-type {\n",
       "        vertical-align: middle;\n",
       "    }\n",
       "\n",
       "    .dataframe tbody tr th {\n",
       "        vertical-align: top;\n",
       "    }\n",
       "\n",
       "    .dataframe thead th {\n",
       "        text-align: right;\n",
       "    }\n",
       "</style>\n",
       "<table border=\"1\" class=\"dataframe\">\n",
       "  <thead>\n",
       "    <tr style=\"text-align: right;\">\n",
       "      <th></th>\n",
       "      <th>salary</th>\n",
       "      <th>exprior</th>\n",
       "      <th>yearsworked</th>\n",
       "      <th>yearsrank</th>\n",
       "      <th>market</th>\n",
       "      <th>degree</th>\n",
       "      <th>otherqual</th>\n",
       "      <th>position</th>\n",
       "      <th>male</th>\n",
       "      <th>Field</th>\n",
       "      <th>yearsabs</th>\n",
       "    </tr>\n",
       "  </thead>\n",
       "  <tbody>\n",
       "    <tr>\n",
       "      <th>208</th>\n",
       "      <td>NaN</td>\n",
       "      <td>0</td>\n",
       "      <td>21</td>\n",
       "      <td>10</td>\n",
       "      <td>0.93</td>\n",
       "      <td>1</td>\n",
       "      <td>0</td>\n",
       "      <td>3</td>\n",
       "      <td>1</td>\n",
       "      <td>4</td>\n",
       "      <td>1</td>\n",
       "    </tr>\n",
       "  </tbody>\n",
       "</table>\n",
       "</div>"
      ],
      "text/plain": [
       "     salary  exprior  yearsworked  yearsrank  market  degree  otherqual  \\\n",
       "208     NaN        0           21         10    0.93       1          0   \n",
       "\n",
       "     position  male  Field  yearsabs  \n",
       "208         3     1      4         1  "
      ]
     },
     "execution_count": 3,
     "metadata": {},
     "output_type": "execute_result"
    }
   ],
   "source": [
    "# Missing data\n",
    "print(\"Total number of responders (target variable):\\t{}\".format(len(data)))\n",
    "print(\"Number of columns with missing values:\\t{}\".format(len(data[data.isnull().any(axis=1)])))\n",
    "print(\"\\nA look at the row with missing value:\")\n",
    "data[data.isnull().any(axis=1)]"
   ]
  },
  {
   "cell_type": "code",
   "execution_count": 4,
   "metadata": {},
   "outputs": [],
   "source": [
    "# Deleting row with missing data\n",
    "data.dropna(inplace=True)"
   ]
  },
  {
   "cell_type": "markdown",
   "metadata": {},
   "source": [
    "#### Detecting Outliers"
   ]
  },
  {
   "cell_type": "markdown",
   "metadata": {},
   "source": [
    "Outlier definition:\n",
    "Any data point that is more or less(upper and lower bound) than 3 times the standard deviation"
   ]
  },
  {
   "cell_type": "code",
   "execution_count": 5,
   "metadata": {},
   "outputs": [],
   "source": [
    "data_std = np.std(data[\"salary\"])\n",
    "data_mean = np.mean(data[\"salary\"])\n",
    "\n",
    "outlier_cut_off = data_std * 3\n",
    "        \n",
    "lower_limit  = data_mean - outlier_cut_off \n",
    "upper_limit = data_mean + outlier_cut_off\n",
    "\n",
    "# Df has no figures below the lower_limit variable, therefore only using upper_limit to filter out outliers\n",
    "data = data[data[\"salary\"] < int(upper_limit)]"
   ]
  },
  {
   "cell_type": "markdown",
   "metadata": {},
   "source": [
    "#### A quick look at the feature and target variable"
   ]
  },
  {
   "cell_type": "code",
   "execution_count": 6,
   "metadata": {},
   "outputs": [
    {
     "name": "stdout",
     "output_type": "stream",
     "text": [
      "Salary variance: 148791366.51168084\t\tYearsworked variance: 89.41\n"
     ]
    },
    {
     "data": {
      "image/png": "[encoded data removed]",
      "text/plain": [
       "<Figure size 1440x360 with 2 Axes>"
      ]
     },
     "metadata": {
      "needs_background": "light"
     },
     "output_type": "display_data"
    }
   ],
   "source": [
    "# Variance and Distribution charts\n",
    "data[[\"salary\", \"yearsworked\"]].hist(figsize=(20,5))\n",
    "print(\"Salary variance: {}\\t\\tYearsworked variance: {}\".\n",
    "      format(data[\"salary\"].var(),round(data[\"yearsworked\"].var(),2)))"
   ]
  },
  {
   "cell_type": "markdown",
   "metadata": {},
   "source": [
    "Due to the relatively high variance of the target variable, the variable will be transformed and the original\n",
    "values kept for comparative purposes."
   ]
  },
  {
   "cell_type": "code",
   "execution_count": 7,
   "metadata": {},
   "outputs": [
    {
     "name": "stdout",
     "output_type": "stream",
     "text": [
      "Salary_log variance: 0.05992787278703438\t\t Salary variance: 148791366.51168084\n"
     ]
    },
    {
     "data": {
      "image/png": "[encoded data removed]",
      "text/plain": [
       "<Figure size 1440x360 with 2 Axes>"
      ]
     },
     "metadata": {
      "needs_background": "light"
     },
     "output_type": "display_data"
    }
   ],
   "source": [
    "data[\"salary_log\"] = np.log(data[\"salary\"])\n",
    "\n",
    "# Distribution of the newly created variables\n",
    "data[[\"salary_log\", \"salary\"]].hist(figsize=(20,5))\n",
    "print(\"Salary_log variance: {}\\t\\t Salary variance: {}\".format(data[\"salary_log\"].var(),data[\"salary\"].var() ))"
   ]
  },
  {
   "cell_type": "markdown",
   "metadata": {},
   "source": [
    "#### Checking for Linearity"
   ]
  },
  {
   "cell_type": "code",
   "execution_count": 8,
   "metadata": {},
   "outputs": [
    {
     "data": {
      "text/plain": [
       "<seaborn.axisgrid.FacetGrid at 0x2533bae1e48>"
      ]
     },
     "execution_count": 8,
     "metadata": {},
     "output_type": "execute_result"
    },
    {
     "data": {
      "image/png": "[encoded data removed]",
      "text/plain": [
       "<Figure size 360x360 with 1 Axes>"
      ]
     },
     "metadata": {
      "needs_background": "light"
     },
     "output_type": "display_data"
    }
   ],
   "source": [
    "sns.lmplot(x='salary',y='yearsworked',data=data,fit_reg=True)"
   ]
  },
  {
   "cell_type": "markdown",
   "metadata": {},
   "source": [
    "Looking at the above chart, one can conclude that a relationship between the independent variable and \n",
    "the dependent variable is indeed linear."
   ]
  },
  {
   "cell_type": "markdown",
   "metadata": {},
   "source": [
    "#### Spliting the dataset"
   ]
  },
  {
   "cell_type": "code",
   "execution_count": 9,
   "metadata": {},
   "outputs": [],
   "source": [
    "# Define the dependent and independent variable\n",
    "Y = data.salary\n",
    "x = data.yearsworked\n",
    "\n",
    "X_train, X_test, y_train, y_test = train_test_split(Y, x)"
   ]
  },
  {
   "cell_type": "markdown",
   "metadata": {},
   "source": [
    "2.Using the statsmodels package and the training data, run a simple linear regression for Salary with one predictor variable: Years Worked.\n",
    "\n",
    "Does the model significantly predict the dependent variable? Report the amount of variance explained (R^2) and significance value (p) to support your answer.\n",
    "\n",
    "What percentage of the variance in employees’ salaries is accounted for by the number of years they have worked?"
   ]
  },
  {
   "cell_type": "markdown",
   "metadata": {},
   "source": [
    "#### Training a model"
   ]
  },
  {
   "cell_type": "markdown",
   "metadata": {},
   "source": [
    "\\begin{equation}\n",
    "\\hat{Y} = \\beta_0 + \\beta_1 X_i\n",
    "\\end{equation}"
   ]
  },
  {
   "cell_type": "markdown",
   "metadata": {},
   "source": [
    "Where:\n",
    "\n",
    " Y is the prediction.\n",
    " \n",
    " beta 0 is the contant.\n",
    " \n",
    " beta 1 is the slope of the line and a is the y-intercept.\n",
    " \n",
    " X is the independent variable. "
   ]
  },
  {
   "cell_type": "code",
   "execution_count": 10,
   "metadata": {},
   "outputs": [
    {
     "data": {
      "text/html": [
       "<table class=\"simpletable\">\n",
       "<caption>OLS Regression Results</caption>\n",
       "<tr>\n",
       "  <th>Dep. Variable:</th>         <td>salary</td>      <th>  R-squared (uncentered):</th>      <td>   0.767</td> \n",
       "</tr>\n",
       "<tr>\n",
       "  <th>Model:</th>                   <td>OLS</td>       <th>  Adj. R-squared (uncentered):</th> <td>   0.767</td> \n",
       "</tr>\n",
       "<tr>\n",
       "  <th>Method:</th>             <td>Least Squares</td>  <th>  F-statistic:       </th>          <td>   1254.</td> \n",
       "</tr>\n",
       "<tr>\n",
       "  <th>Date:</th>             <td>Mon, 10 Feb 2020</td> <th>  Prob (F-statistic):</th>          <td>1.99e-122</td>\n",
       "</tr>\n",
       "<tr>\n",
       "  <th>Time:</th>                 <td>14:00:29</td>     <th>  Log-Likelihood:    </th>          <td> -4400.9</td> \n",
       "</tr>\n",
       "<tr>\n",
       "  <th>No. Observations:</th>      <td>   381</td>      <th>  AIC:               </th>          <td>   8804.</td> \n",
       "</tr>\n",
       "<tr>\n",
       "  <th>Df Residuals:</th>          <td>   380</td>      <th>  BIC:               </th>          <td>   8808.</td> \n",
       "</tr>\n",
       "<tr>\n",
       "  <th>Df Model:</th>              <td>     1</td>      <th>                     </th>              <td> </td>    \n",
       "</tr>\n",
       "<tr>\n",
       "  <th>Covariance Type:</th>      <td>nonrobust</td>    <th>                     </th>              <td> </td>    \n",
       "</tr>\n",
       "</table>\n",
       "<table class=\"simpletable\">\n",
       "<tr>\n",
       "       <td></td>          <th>coef</th>     <th>std err</th>      <th>t</th>      <th>P>|t|</th>  <th>[0.025</th>    <th>0.975]</th>  \n",
       "</tr>\n",
       "<tr>\n",
       "  <th>yearsworked</th> <td> 2837.7502</td> <td>   80.129</td> <td>   35.415</td> <td> 0.000</td> <td> 2680.199</td> <td> 2995.301</td>\n",
       "</tr>\n",
       "</table>\n",
       "<table class=\"simpletable\">\n",
       "<tr>\n",
       "  <th>Omnibus:</th>       <td>14.912</td> <th>  Durbin-Watson:     </th> <td>   1.438</td>\n",
       "</tr>\n",
       "<tr>\n",
       "  <th>Prob(Omnibus):</th> <td> 0.001</td> <th>  Jarque-Bera (JB):  </th> <td>   7.108</td>\n",
       "</tr>\n",
       "<tr>\n",
       "  <th>Skew:</th>          <td> 0.064</td> <th>  Prob(JB):          </th> <td>  0.0286</td>\n",
       "</tr>\n",
       "<tr>\n",
       "  <th>Kurtosis:</th>      <td> 2.343</td> <th>  Cond. No.          </th> <td>    1.00</td>\n",
       "</tr>\n",
       "</table><br/><br/>Warnings:<br/>[1] Standard Errors assume that the covariance matrix of the errors is correctly specified."
      ],
      "text/plain": [
       "<class 'statsmodels.iolib.summary.Summary'>\n",
       "\"\"\"\n",
       "                                 OLS Regression Results                                \n",
       "=======================================================================================\n",
       "Dep. Variable:                 salary   R-squared (uncentered):                   0.767\n",
       "Model:                            OLS   Adj. R-squared (uncentered):              0.767\n",
       "Method:                 Least Squares   F-statistic:                              1254.\n",
       "Date:                Mon, 10 Feb 2020   Prob (F-statistic):                   1.99e-122\n",
       "Time:                        14:00:29   Log-Likelihood:                         -4400.9\n",
       "No. Observations:                 381   AIC:                                      8804.\n",
       "Df Residuals:                     380   BIC:                                      8808.\n",
       "Df Model:                           1                                                  \n",
       "Covariance Type:            nonrobust                                                  \n",
       "===============================================================================\n",
       "                  coef    std err          t      P>|t|      [0.025      0.975]\n",
       "-------------------------------------------------------------------------------\n",
       "yearsworked  2837.7502     80.129     35.415      0.000    2680.199    2995.301\n",
       "==============================================================================\n",
       "Omnibus:                       14.912   Durbin-Watson:                   1.438\n",
       "Prob(Omnibus):                  0.001   Jarque-Bera (JB):                7.108\n",
       "Skew:                           0.064   Prob(JB):                       0.0286\n",
       "Kurtosis:                       2.343   Cond. No.                         1.00\n",
       "==============================================================================\n",
       "\n",
       "Warnings:\n",
       "[1] Standard Errors assume that the covariance matrix of the errors is correctly specified.\n",
       "\"\"\""
      ]
     },
     "execution_count": 10,
     "metadata": {},
     "output_type": "execute_result"
    }
   ],
   "source": [
    "# Ordinary Least Squares (OLS) regression\n",
    "beta = sm.add_constant(X_train)\n",
    "\n",
    "#model\n",
    "model = sm.OLS(X_train, y_train).fit()\n",
    "\n",
    "#results\n",
    "model.summary()"
   ]
  },
  {
   "cell_type": "markdown",
   "metadata": {},
   "source": [
    "**A p-value less than 0.05 (typically ≤ 0.05) is statistically significant. It indicates strong evidence against the null hypothesis, \n",
    "as there is less than a 5% probability the null is correct (and the results are random).**\n",
    "\n",
    "**Generally r-squared below 50% percent are considered weak or low effect size, however in non-scientific models one can consider this a Moderate effect size. If this case a r-squared greater than 0.7 is considered strong in effect size**"
   ]
  },
  {
   "cell_type": "markdown",
   "metadata": {},
   "source": [
    "3.What does the unstandardized coefficient (B or ‘coef’ in statsmodels) tell you about the relationship between Years Worked and Salary?"
   ]
  },
  {
   "cell_type": "markdown",
   "metadata": {},
   "source": [
    "**For every year of experience one has, they could expect an increase in salary of 2927.85**"
   ]
  },
  {
   "cell_type": "markdown",
   "metadata": {},
   "source": [
    "4.What do the 95% confidence intervals [0.025, 0.975] mean?"
   ]
  },
  {
   "cell_type": "markdown",
   "metadata": {},
   "source": [
    "**The 95% confidence interval defines a range of values that you can be 95% certain contains the population mean**"
   ]
  },
  {
   "cell_type": "markdown",
   "metadata": {},
   "source": [
    "5.Calculate the expected salary for someone with 12 years’ work experience."
   ]
  },
  {
   "cell_type": "code",
   "execution_count": 11,
   "metadata": {},
   "outputs": [
    {
     "name": "stdout",
     "output_type": "stream",
     "text": [
      "35134.1352\n"
     ]
    }
   ],
   "source": [
    "print(12*2927.8446)"
   ]
  },
  {
   "cell_type": "markdown",
   "metadata": {},
   "source": [
    "6.Calculate the expected salary for someone with 80 years’ work experience. Are there any problems with this prediction? If so, what are they?"
   ]
  },
  {
   "cell_type": "code",
   "execution_count": 12,
   "metadata": {},
   "outputs": [
    {
     "name": "stdout",
     "output_type": "stream",
     "text": [
      "234227.568\n"
     ]
    }
   ],
   "source": [
    "print(80*2927.8446)"
   ]
  },
  {
   "cell_type": "code",
   "execution_count": 13,
   "metadata": {},
   "outputs": [
    {
     "name": "stdout",
     "output_type": "stream",
     "text": [
      "Min salary: 29500.0\t\tMax salary: 83192.23438\n",
      "Min yearsworked: 0\t\tMax yearsworked: 35\n"
     ]
    }
   ],
   "source": [
    "# Min and Max values for salary and yearsworked\n",
    "print(\"Min salary: {}\\t\\tMax salary: {}\".format(min(X_train), max(X_train)))\n",
    "print(\"Min yearsworked: {}\\t\\tMax yearsworked: {}\".format(min(y_train), max(y_train)))\n"
   ]
  },
  {
   "cell_type": "markdown",
   "metadata": {},
   "source": [
    "**The above indicates why they might be a problem with the 80 year prediction. \n",
    "The model has been trained with yearsworked ranging from 0 to 35, therefore making a\n",
    "prediction of 80 will result in an unexpected prediction since the model have never been training on such.**"
   ]
  },
  {
   "cell_type": "markdown",
   "metadata": {},
   "source": [
    "7.We have only looked at the number of years an employee has worked. What other employee characteristics might influence their salary?"
   ]
  },
  {
   "cell_type": "code",
   "execution_count": 14,
   "metadata": {},
   "outputs": [
    {
     "data": {
      "text/html": [
       "<div>\n",
       "<style scoped>\n",
       "    .dataframe tbody tr th:only-of-type {\n",
       "        vertical-align: middle;\n",
       "    }\n",
       "\n",
       "    .dataframe tbody tr th {\n",
       "        vertical-align: top;\n",
       "    }\n",
       "\n",
       "    .dataframe thead th {\n",
       "        text-align: right;\n",
       "    }\n",
       "</style>\n",
       "<table border=\"1\" class=\"dataframe\">\n",
       "  <thead>\n",
       "    <tr style=\"text-align: right;\">\n",
       "      <th></th>\n",
       "      <th>salary</th>\n",
       "      <th>exprior</th>\n",
       "      <th>yearsworked</th>\n",
       "      <th>yearsrank</th>\n",
       "      <th>market</th>\n",
       "      <th>degree</th>\n",
       "      <th>otherqual</th>\n",
       "      <th>position</th>\n",
       "      <th>male</th>\n",
       "      <th>Field</th>\n",
       "      <th>yearsabs</th>\n",
       "      <th>salary_log</th>\n",
       "    </tr>\n",
       "  </thead>\n",
       "  <tbody>\n",
       "    <tr>\n",
       "      <th>salary</th>\n",
       "      <td>1.000000</td>\n",
       "      <td>0.084709</td>\n",
       "      <td>0.634237</td>\n",
       "      <td>0.603412</td>\n",
       "      <td>0.403768</td>\n",
       "      <td>0.041460</td>\n",
       "      <td>0.180277</td>\n",
       "      <td>0.708003</td>\n",
       "      <td>0.362652</td>\n",
       "      <td>-0.498564</td>\n",
       "      <td>-0.064088</td>\n",
       "      <td>0.992308</td>\n",
       "    </tr>\n",
       "    <tr>\n",
       "      <th>exprior</th>\n",
       "      <td>0.084709</td>\n",
       "      <td>1.000000</td>\n",
       "      <td>-0.255248</td>\n",
       "      <td>-0.086510</td>\n",
       "      <td>-0.046300</td>\n",
       "      <td>-0.052398</td>\n",
       "      <td>0.272167</td>\n",
       "      <td>0.107680</td>\n",
       "      <td>0.041141</td>\n",
       "      <td>-0.036892</td>\n",
       "      <td>0.137959</td>\n",
       "      <td>0.079255</td>\n",
       "    </tr>\n",
       "    <tr>\n",
       "      <th>yearsworked</th>\n",
       "      <td>0.634237</td>\n",
       "      <td>-0.255248</td>\n",
       "      <td>1.000000</td>\n",
       "      <td>0.814726</td>\n",
       "      <td>-0.074769</td>\n",
       "      <td>0.027109</td>\n",
       "      <td>-0.039034</td>\n",
       "      <td>0.745734</td>\n",
       "      <td>0.276154</td>\n",
       "      <td>-0.261624</td>\n",
       "      <td>0.058267</td>\n",
       "      <td>0.646269</td>\n",
       "    </tr>\n",
       "    <tr>\n",
       "      <th>yearsrank</th>\n",
       "      <td>0.603412</td>\n",
       "      <td>-0.086510</td>\n",
       "      <td>0.814726</td>\n",
       "      <td>1.000000</td>\n",
       "      <td>-0.034273</td>\n",
       "      <td>0.004010</td>\n",
       "      <td>0.010061</td>\n",
       "      <td>0.479373</td>\n",
       "      <td>0.233238</td>\n",
       "      <td>-0.260629</td>\n",
       "      <td>0.040409</td>\n",
       "      <td>0.590067</td>\n",
       "    </tr>\n",
       "    <tr>\n",
       "      <th>market</th>\n",
       "      <td>0.403768</td>\n",
       "      <td>-0.046300</td>\n",
       "      <td>-0.074769</td>\n",
       "      <td>-0.034273</td>\n",
       "      <td>1.000000</td>\n",
       "      <td>0.035371</td>\n",
       "      <td>0.023203</td>\n",
       "      <td>-0.020369</td>\n",
       "      <td>0.178701</td>\n",
       "      <td>-0.217242</td>\n",
       "      <td>-0.165756</td>\n",
       "      <td>0.411894</td>\n",
       "    </tr>\n",
       "    <tr>\n",
       "      <th>degree</th>\n",
       "      <td>0.041460</td>\n",
       "      <td>-0.052398</td>\n",
       "      <td>0.027109</td>\n",
       "      <td>0.004010</td>\n",
       "      <td>0.035371</td>\n",
       "      <td>1.000000</td>\n",
       "      <td>-0.214400</td>\n",
       "      <td>0.041937</td>\n",
       "      <td>0.060643</td>\n",
       "      <td>-0.098122</td>\n",
       "      <td>0.029952</td>\n",
       "      <td>0.049541</td>\n",
       "    </tr>\n",
       "    <tr>\n",
       "      <th>otherqual</th>\n",
       "      <td>0.180277</td>\n",
       "      <td>0.272167</td>\n",
       "      <td>-0.039034</td>\n",
       "      <td>0.010061</td>\n",
       "      <td>0.023203</td>\n",
       "      <td>-0.214400</td>\n",
       "      <td>1.000000</td>\n",
       "      <td>0.163503</td>\n",
       "      <td>0.017089</td>\n",
       "      <td>-0.078085</td>\n",
       "      <td>-0.018357</td>\n",
       "      <td>0.168088</td>\n",
       "    </tr>\n",
       "    <tr>\n",
       "      <th>position</th>\n",
       "      <td>0.708003</td>\n",
       "      <td>0.107680</td>\n",
       "      <td>0.745734</td>\n",
       "      <td>0.479373</td>\n",
       "      <td>-0.020369</td>\n",
       "      <td>0.041937</td>\n",
       "      <td>0.163503</td>\n",
       "      <td>1.000000</td>\n",
       "      <td>0.314384</td>\n",
       "      <td>-0.287138</td>\n",
       "      <td>0.033400</td>\n",
       "      <td>0.725381</td>\n",
       "    </tr>\n",
       "    <tr>\n",
       "      <th>male</th>\n",
       "      <td>0.362652</td>\n",
       "      <td>0.041141</td>\n",
       "      <td>0.276154</td>\n",
       "      <td>0.233238</td>\n",
       "      <td>0.178701</td>\n",
       "      <td>0.060643</td>\n",
       "      <td>0.017089</td>\n",
       "      <td>0.314384</td>\n",
       "      <td>1.000000</td>\n",
       "      <td>-0.127147</td>\n",
       "      <td>-0.621660</td>\n",
       "      <td>0.368125</td>\n",
       "    </tr>\n",
       "    <tr>\n",
       "      <th>Field</th>\n",
       "      <td>-0.498564</td>\n",
       "      <td>-0.036892</td>\n",
       "      <td>-0.261624</td>\n",
       "      <td>-0.260629</td>\n",
       "      <td>-0.217242</td>\n",
       "      <td>-0.098122</td>\n",
       "      <td>-0.078085</td>\n",
       "      <td>-0.287138</td>\n",
       "      <td>-0.127147</td>\n",
       "      <td>1.000000</td>\n",
       "      <td>-0.001666</td>\n",
       "      <td>-0.487850</td>\n",
       "    </tr>\n",
       "    <tr>\n",
       "      <th>yearsabs</th>\n",
       "      <td>-0.064088</td>\n",
       "      <td>0.137959</td>\n",
       "      <td>0.058267</td>\n",
       "      <td>0.040409</td>\n",
       "      <td>-0.165756</td>\n",
       "      <td>0.029952</td>\n",
       "      <td>-0.018357</td>\n",
       "      <td>0.033400</td>\n",
       "      <td>-0.621660</td>\n",
       "      <td>-0.001666</td>\n",
       "      <td>1.000000</td>\n",
       "      <td>-0.043751</td>\n",
       "    </tr>\n",
       "    <tr>\n",
       "      <th>salary_log</th>\n",
       "      <td>0.992308</td>\n",
       "      <td>0.079255</td>\n",
       "      <td>0.646269</td>\n",
       "      <td>0.590067</td>\n",
       "      <td>0.411894</td>\n",
       "      <td>0.049541</td>\n",
       "      <td>0.168088</td>\n",
       "      <td>0.725381</td>\n",
       "      <td>0.368125</td>\n",
       "      <td>-0.487850</td>\n",
       "      <td>-0.043751</td>\n",
       "      <td>1.000000</td>\n",
       "    </tr>\n",
       "  </tbody>\n",
       "</table>\n",
       "</div>"
      ],
      "text/plain": [
       "               salary   exprior  yearsworked  yearsrank    market    degree  \\\n",
       "salary       1.000000  0.084709     0.634237   0.603412  0.403768  0.041460   \n",
       "exprior      0.084709  1.000000    -0.255248  -0.086510 -0.046300 -0.052398   \n",
       "yearsworked  0.634237 -0.255248     1.000000   0.814726 -0.074769  0.027109   \n",
       "yearsrank    0.603412 -0.086510     0.814726   1.000000 -0.034273  0.004010   \n",
       "market       0.403768 -0.046300    -0.074769  -0.034273  1.000000  0.035371   \n",
       "degree       0.041460 -0.052398     0.027109   0.004010  0.035371  1.000000   \n",
       "otherqual    0.180277  0.272167    -0.039034   0.010061  0.023203 -0.214400   \n",
       "position     0.708003  0.107680     0.745734   0.479373 -0.020369  0.041937   \n",
       "male         0.362652  0.041141     0.276154   0.233238  0.178701  0.060643   \n",
       "Field       -0.498564 -0.036892    -0.261624  -0.260629 -0.217242 -0.098122   \n",
       "yearsabs    -0.064088  0.137959     0.058267   0.040409 -0.165756  0.029952   \n",
       "salary_log   0.992308  0.079255     0.646269   0.590067  0.411894  0.049541   \n",
       "\n",
       "             otherqual  position      male     Field  yearsabs  salary_log  \n",
       "salary        0.180277  0.708003  0.362652 -0.498564 -0.064088    0.992308  \n",
       "exprior       0.272167  0.107680  0.041141 -0.036892  0.137959    0.079255  \n",
       "yearsworked  -0.039034  0.745734  0.276154 -0.261624  0.058267    0.646269  \n",
       "yearsrank     0.010061  0.479373  0.233238 -0.260629  0.040409    0.590067  \n",
       "market        0.023203 -0.020369  0.178701 -0.217242 -0.165756    0.411894  \n",
       "degree       -0.214400  0.041937  0.060643 -0.098122  0.029952    0.049541  \n",
       "otherqual     1.000000  0.163503  0.017089 -0.078085 -0.018357    0.168088  \n",
       "position      0.163503  1.000000  0.314384 -0.287138  0.033400    0.725381  \n",
       "male          0.017089  0.314384  1.000000 -0.127147 -0.621660    0.368125  \n",
       "Field        -0.078085 -0.287138 -0.127147  1.000000 -0.001666   -0.487850  \n",
       "yearsabs     -0.018357  0.033400 -0.621660 -0.001666  1.000000   -0.043751  \n",
       "salary_log    0.168088  0.725381  0.368125 -0.487850 -0.043751    1.000000  "
      ]
     },
     "execution_count": 14,
     "metadata": {},
     "output_type": "execute_result"
    }
   ],
   "source": [
    "data.corr(method ='pearson')"
   ]
  },
  {
   "cell_type": "code",
   "execution_count": 15,
   "metadata": {},
   "outputs": [
    {
     "data": {
      "text/plain": [
       "<matplotlib.axes._subplots.AxesSubplot at 0x2533bb9e780>"
      ]
     },
     "execution_count": 15,
     "metadata": {},
     "output_type": "execute_result"
    },
    {
     "data": {
      "image/png": "[encoded data removed]",
      "text/plain": [
       "<Figure size 432x288 with 2 Axes>"
      ]
     },
     "metadata": {
      "needs_background": "light"
     },
     "output_type": "display_data"
    }
   ],
   "source": [
    "corr = data.corr(method ='pearson')\n",
    "sns.heatmap(corr, \n",
    "        xticklabels=corr.columns,\n",
    "        yticklabels=corr.columns)"
   ]
  },
  {
   "cell_type": "markdown",
   "metadata": {},
   "source": [
    "exprior column could have been used instead of yearworked"
   ]
  },
  {
   "cell_type": "markdown",
   "metadata": {},
   "source": [
    "How does your model compare when running it on the test set - what is the difference in the Root Mean Square Error (RMSE) between the training and test sets? Is there any evidence of overfitting?"
   ]
  },
  {
   "cell_type": "code",
   "execution_count": 16,
   "metadata": {},
   "outputs": [],
   "source": [
    "from sklearn.metrics import mean_squared_error\n",
    "import numpy as np\n",
    " \n",
    "test_predict = model.predict(y_test)\n",
    "\n",
    "rmse = np.sqrt(mean_squared_error(y_test, test_predict))"
   ]
  },
  {
   "cell_type": "code",
   "execution_count": 17,
   "metadata": {},
   "outputs": [
    {
     "data": {
      "text/plain": [
       "43393.93325961591"
      ]
     },
     "execution_count": 17,
     "metadata": {},
     "output_type": "execute_result"
    }
   ],
   "source": [
    "rmse"
   ]
  },
  {
   "cell_type": "code",
   "execution_count": 18,
   "metadata": {},
   "outputs": [
    {
     "data": {
      "text/plain": [
       "45641.374351663304"
      ]
     },
     "execution_count": 18,
     "metadata": {},
     "output_type": "execute_result"
    }
   ],
   "source": [
    "train_predict = model.predict(y_train)\n",
    "rmse = np.sqrt(mean_squared_error(y_train, train_predict))\n",
    "\n",
    "rmse"
   ]
  },
  {
   "cell_type": "markdown",
   "metadata": {},
   "source": [
    "# Conclusion"
   ]
  },
  {
   "cell_type": "markdown",
   "metadata": {},
   "source": [
    "Test errors are lower then train errors, this could be due to the relatively small size of not only the test set but also the\n",
    "overall dataset or the training data contains less predictive data points. For one to truely have an general idea on this model\n",
    "performance cross-validation will have to be applied."
   ]
  }
 ],
 "metadata": {
  "kernelspec": {
   "display_name": "Python 3",
   "language": "python",
   "name": "python3"
  },
  "language_info": {
   "codemirror_mode": {
    "name": "ipython",
    "version": 3
   },
   "file_extension": ".py",
   "mimetype": "text/x-python",
   "name": "python",
   "nbconvert_exporter": "python",
   "pygments_lexer": "ipython3",
   "version": "3.7.3"
  }
 },
 "nbformat": 4,
 "nbformat_minor": 2
}
